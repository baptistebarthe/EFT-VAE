{
 "cells": [
  {
   "cell_type": "code",
   "execution_count": 1,
   "metadata": {},
   "outputs": [],
   "source": [
    "import numpy as np\n",
    "import matplotlib.pyplot as plt\n",
    "import pandas as pd\n",
    "from sklearn.preprocessing import MinMaxScaler\n",
    "from sklearn.model_selection import train_test_split\n",
    "import torch\n",
    "import torch.nn as nn\n",
    "from torch.utils.data import DataLoader\n",
    "\n",
    "M_Z = 91.187  # mass of Z boson (GeV)"
   ]
  },
  {
   "cell_type": "code",
   "execution_count": 2,
   "metadata": {},
   "outputs": [
    {
     "data": {
      "text/plain": [
       "m_ll            6983\n",
       "m_jj            6983\n",
       "pt_l1           6983\n",
       "pt_l2           6983\n",
       "pt_j1           6983\n",
       "pt_j2           6983\n",
       "pt_ll           6983\n",
       "eta_l1          6983\n",
       "eta_l2          6983\n",
       "eta_j1          6983\n",
       "eta_j2          6983\n",
       "delta_eta_jj    6983\n",
       "delta_phi_jj    6983\n",
       "dtype: int64"
      ]
     },
     "execution_count": 2,
     "metadata": {},
     "output_type": "execute_result"
    }
   ],
   "source": [
    "dataset = pd.read_csv(\"./data/SM_10k.csv\")\n",
    "# Apply cuts\n",
    "df = dataset[\n",
    "    (abs(dataset[\"m_ll\"] - M_Z) < 15)\n",
    "    & (dataset[\"m_jj\"] > 300)\n",
    "    & (abs(dataset[\"delta_eta_jj\"]) > 2.5)\n",
    "]\n",
    "\n",
    "df.count()"
   ]
  },
  {
   "cell_type": "code",
   "execution_count": 3,
   "metadata": {},
   "outputs": [
    {
     "data": {
      "text/html": [
       "<div>\n",
       "<style scoped>\n",
       "    .dataframe tbody tr th:only-of-type {\n",
       "        vertical-align: middle;\n",
       "    }\n",
       "\n",
       "    .dataframe tbody tr th {\n",
       "        vertical-align: top;\n",
       "    }\n",
       "\n",
       "    .dataframe thead th {\n",
       "        text-align: right;\n",
       "    }\n",
       "</style>\n",
       "<table border=\"1\" class=\"dataframe\">\n",
       "  <thead>\n",
       "    <tr style=\"text-align: right;\">\n",
       "      <th></th>\n",
       "      <th>m_ll</th>\n",
       "      <th>m_jj</th>\n",
       "      <th>pt_l1</th>\n",
       "      <th>pt_l2</th>\n",
       "      <th>pt_j1</th>\n",
       "      <th>pt_j2</th>\n",
       "      <th>pt_ll</th>\n",
       "      <th>eta_l1</th>\n",
       "      <th>eta_l2</th>\n",
       "      <th>eta_j1</th>\n",
       "      <th>eta_j2</th>\n",
       "      <th>delta_eta_jj</th>\n",
       "      <th>delta_phi_jj</th>\n",
       "    </tr>\n",
       "  </thead>\n",
       "  <tbody>\n",
       "    <tr>\n",
       "      <th>0</th>\n",
       "      <td>91.635210</td>\n",
       "      <td>667.722780</td>\n",
       "      <td>76.915838</td>\n",
       "      <td>70.168638</td>\n",
       "      <td>79.861451</td>\n",
       "      <td>114.119794</td>\n",
       "      <td>116.217132</td>\n",
       "      <td>1.229191</td>\n",
       "      <td>1.006156</td>\n",
       "      <td>3.575737</td>\n",
       "      <td>-0.300728</td>\n",
       "      <td>3.876465</td>\n",
       "      <td>-1.900115</td>\n",
       "    </tr>\n",
       "    <tr>\n",
       "      <th>1</th>\n",
       "      <td>96.278517</td>\n",
       "      <td>2420.868329</td>\n",
       "      <td>122.669099</td>\n",
       "      <td>33.745498</td>\n",
       "      <td>208.670392</td>\n",
       "      <td>330.818190</td>\n",
       "      <td>145.454612</td>\n",
       "      <td>0.829505</td>\n",
       "      <td>1.967168</td>\n",
       "      <td>2.528491</td>\n",
       "      <td>-1.890051</td>\n",
       "      <td>4.418542</td>\n",
       "      <td>-2.839869</td>\n",
       "    </tr>\n",
       "    <tr>\n",
       "      <th>2</th>\n",
       "      <td>93.136842</td>\n",
       "      <td>1354.262005</td>\n",
       "      <td>24.359742</td>\n",
       "      <td>101.941891</td>\n",
       "      <td>94.105585</td>\n",
       "      <td>64.554857</td>\n",
       "      <td>85.313150</td>\n",
       "      <td>-0.216607</td>\n",
       "      <td>-0.199792</td>\n",
       "      <td>-1.593260</td>\n",
       "      <td>4.113683</td>\n",
       "      <td>-5.706943</td>\n",
       "      <td>2.063296</td>\n",
       "    </tr>\n",
       "    <tr>\n",
       "      <th>4</th>\n",
       "      <td>89.975393</td>\n",
       "      <td>540.147829</td>\n",
       "      <td>68.022582</td>\n",
       "      <td>49.693719</td>\n",
       "      <td>172.316059</td>\n",
       "      <td>118.034701</td>\n",
       "      <td>93.485945</td>\n",
       "      <td>0.126138</td>\n",
       "      <td>1.033327</td>\n",
       "      <td>-0.842621</td>\n",
       "      <td>1.687083</td>\n",
       "      <td>-2.529704</td>\n",
       "      <td>2.601356</td>\n",
       "    </tr>\n",
       "    <tr>\n",
       "      <th>5</th>\n",
       "      <td>91.617452</td>\n",
       "      <td>308.289170</td>\n",
       "      <td>22.777012</td>\n",
       "      <td>104.058939</td>\n",
       "      <td>59.672914</td>\n",
       "      <td>95.618096</td>\n",
       "      <td>106.870125</td>\n",
       "      <td>1.180797</td>\n",
       "      <td>-0.002955</td>\n",
       "      <td>-2.260247</td>\n",
       "      <td>0.535280</td>\n",
       "      <td>-2.795527</td>\n",
       "      <td>1.683416</td>\n",
       "    </tr>\n",
       "  </tbody>\n",
       "</table>\n",
       "</div>"
      ],
      "text/plain": [
       "        m_ll         m_jj       pt_l1       pt_l2       pt_j1       pt_j2  \\\n",
       "0  91.635210   667.722780   76.915838   70.168638   79.861451  114.119794   \n",
       "1  96.278517  2420.868329  122.669099   33.745498  208.670392  330.818190   \n",
       "2  93.136842  1354.262005   24.359742  101.941891   94.105585   64.554857   \n",
       "4  89.975393   540.147829   68.022582   49.693719  172.316059  118.034701   \n",
       "5  91.617452   308.289170   22.777012  104.058939   59.672914   95.618096   \n",
       "\n",
       "        pt_ll    eta_l1    eta_l2    eta_j1    eta_j2  delta_eta_jj  \\\n",
       "0  116.217132  1.229191  1.006156  3.575737 -0.300728      3.876465   \n",
       "1  145.454612  0.829505  1.967168  2.528491 -1.890051      4.418542   \n",
       "2   85.313150 -0.216607 -0.199792 -1.593260  4.113683     -5.706943   \n",
       "4   93.485945  0.126138  1.033327 -0.842621  1.687083     -2.529704   \n",
       "5  106.870125  1.180797 -0.002955 -2.260247  0.535280     -2.795527   \n",
       "\n",
       "   delta_phi_jj  \n",
       "0     -1.900115  \n",
       "1     -2.839869  \n",
       "2      2.063296  \n",
       "4      2.601356  \n",
       "5      1.683416  "
      ]
     },
     "execution_count": 3,
     "metadata": {},
     "output_type": "execute_result"
    }
   ],
   "source": [
    "df.head()"
   ]
  },
  {
   "cell_type": "code",
   "execution_count": 4,
   "metadata": {},
   "outputs": [],
   "source": [
    "# select variables\n",
    "selection = [\n",
    "    \"m_ll\",\n",
    "    \"m_jj\",\n",
    "    \"pt_l1\",\n",
    "    \"pt_l2\",\n",
    "    \"pt_j1\",\n",
    "    \"pt_j2\",\n",
    "    \"pt_ll\",\n",
    "    \"eta_l1\",\n",
    "    \"eta_l2\",\n",
    "    \"eta_j1\",\n",
    "    \"eta_j2\",\n",
    "    \"delta_eta_jj\",\n",
    "    \"delta_phi_jj\",\n",
    "]\n",
    "df = df[selection]\n",
    "for vars in [\"m_ll\", \"m_jj\", \"pt_l1\", \"pt_l2\", \"pt_j1\", \"pt_j2\", \"pt_ll\"]:\n",
    "    df[vars] = df[vars].apply(np.log10)"
   ]
  },
  {
   "cell_type": "code",
   "execution_count": 5,
   "metadata": {},
   "outputs": [],
   "source": [
    "X_train, X_test = train_test_split(df, test_size=0.2)"
   ]
  },
  {
   "cell_type": "code",
   "execution_count": 6,
   "metadata": {},
   "outputs": [],
   "source": [
    "# MinMax scaling\n",
    "t = MinMaxScaler()\n",
    "t.fit(X_train)\n",
    "X_train = t.transform(X_train)\n",
    "X_test = t.transform(X_test)"
   ]
  },
  {
   "cell_type": "code",
   "execution_count": 7,
   "metadata": {},
   "outputs": [],
   "source": [
    "# create train and test dataloaders\n",
    "batch_size = 10\n",
    "train_loader = DataLoader(dataset=X_train, batch_size=batch_size)\n",
    "test_loader = DataLoader(dataset=X_test, batch_size=batch_size)\n",
    "\n",
    "device = torch.device(\"cuda\" if torch.cuda.is_available() else \"cpu\")"
   ]
  },
  {
   "cell_type": "code",
   "execution_count": 8,
   "metadata": {},
   "outputs": [],
   "source": [
    "class VAE(nn.Module):\n",
    "\n",
    "    def __init__(self, input_dim=13, hidden_dim=20, latent_dim=7):\n",
    "        super(VAE, self).__init__()\n",
    "\n",
    "        # encoder\n",
    "        self.encoder = nn.Sequential(\n",
    "            nn.Linear(input_dim, hidden_dim),\n",
    "            nn.LeakyReLU(0.2),\n",
    "            nn.Linear(hidden_dim, hidden_dim),\n",
    "            nn.LeakyReLU(0.2),\n",
    "            nn.Linear(hidden_dim, latent_dim),\n",
    "            nn.LeakyReLU(0.2),\n",
    "        )\n",
    "\n",
    "        # latent mu and variance\n",
    "        self.mu_layer = nn.Linear(latent_dim, 2)\n",
    "        self.logvar_layer = nn.Linear(latent_dim, 2)\n",
    "\n",
    "        # decoder\n",
    "        self.decoder = nn.Sequential(\n",
    "            nn.Linear(2, latent_dim),\n",
    "            nn.LeakyReLU(0.2),\n",
    "            nn.Linear(latent_dim, hidden_dim),\n",
    "            nn.LeakyReLU(0.2),\n",
    "            nn.Linear(hidden_dim, hidden_dim),\n",
    "            nn.LeakyReLU(0.2),\n",
    "            nn.Linear(hidden_dim, input_dim),\n",
    "            nn.Sigmoid(),\n",
    "        )\n",
    "\n",
    "    def encode(self, x):\n",
    "        x = self.encoder(x)\n",
    "        mu, logvar = self.mu_layer(x), self.logvar_layer(x)\n",
    "        return mu, logvar\n",
    "\n",
    "    def reparameterization(self, mu, std):\n",
    "        epsilon = torch.randn_like(std).to(device)\n",
    "        z = mu + std * epsilon\n",
    "        return z\n",
    "\n",
    "    def decode(self, x):\n",
    "        return self.decoder(x)\n",
    "\n",
    "    def forward(self, x):\n",
    "        mu, logvar = self.encode(x)\n",
    "        std = (0.5 * logvar).exp()\n",
    "        z = self.reparameterization(mu, std)\n",
    "        x_hat = self.decode(z)\n",
    "        return x_hat, mu, logvar"
   ]
  },
  {
   "cell_type": "code",
   "execution_count": 9,
   "metadata": {},
   "outputs": [],
   "source": [
    "model = VAE().to(device)\n",
    "optimizer = torch.optim.Adam(model.parameters(), lr=1e-3)\n",
    "\n",
    "\n",
    "def loss_function(x, x_hat, mu, logvar):\n",
    "    reproduction_loss = nn.functional.binary_cross_entropy(x_hat, x, reduction=\"sum\")\n",
    "    KLD = -0.5 * torch.sum(1 + logvar - mu.pow(2) - logvar.exp())\n",
    "\n",
    "    return reproduction_loss + KLD"
   ]
  },
  {
   "cell_type": "code",
   "execution_count": 10,
   "metadata": {},
   "outputs": [],
   "source": [
    "def train(epochs):\n",
    "    model.train()\n",
    "    losses = []\n",
    "    for e in range(epochs):\n",
    "        print(f\"=== EPOCH {e} ===\")\n",
    "        epoch_loss = 0\n",
    "        for idx, x in enumerate(train_loader):\n",
    "            x = x.float().to(device)\n",
    "            optimizer.zero_grad()\n",
    "\n",
    "            x_hat, mean, log_var = model.forward(x)\n",
    "            loss = loss_function(x, x_hat, mean, log_var)\n",
    "\n",
    "            epoch_loss += loss.item()\n",
    "\n",
    "            loss.backward()\n",
    "            optimizer.step()\n",
    "        losses.append(epoch_loss)\n",
    "        print(f\"AVG LOSS : {epoch_loss/(idx*batch_size)}\")\n",
    "\n",
    "    return losses"
   ]
  },
  {
   "cell_type": "code",
   "execution_count": 11,
   "metadata": {},
   "outputs": [
    {
     "name": "stdout",
     "output_type": "stream",
     "text": [
      "=== EPOCH 0 ===\n",
      "AVG LOSS : 8.883698548210992\n",
      "=== EPOCH 1 ===\n",
      "AVG LOSS : 8.858823464506417\n",
      "=== EPOCH 2 ===\n",
      "AVG LOSS : 8.858584801868727\n",
      "=== EPOCH 3 ===\n",
      "AVG LOSS : 8.858398485354625\n",
      "=== EPOCH 4 ===\n",
      "AVG LOSS : 8.858001328881924\n",
      "=== EPOCH 5 ===\n",
      "AVG LOSS : 8.858263825173873\n",
      "=== EPOCH 6 ===\n",
      "AVG LOSS : 8.858032420031913\n",
      "=== EPOCH 7 ===\n",
      "AVG LOSS : 8.857852415542876\n",
      "=== EPOCH 8 ===\n",
      "AVG LOSS : 8.857964981243175\n",
      "=== EPOCH 9 ===\n",
      "AVG LOSS : 8.858027637303943\n"
     ]
    },
    {
     "data": {
      "text/plain": [
       "[49571.037899017334,\n",
       " 49432.2349319458,\n",
       " 49430.90319442749,\n",
       " 49429.86354827881,\n",
       " 49427.64741516113,\n",
       " 49429.112144470215,\n",
       " 49427.820903778076,\n",
       " 49426.81647872925,\n",
       " 49427.444595336914,\n",
       " 49427.794216156006]"
      ]
     },
     "execution_count": 11,
     "metadata": {},
     "output_type": "execute_result"
    }
   ],
   "source": [
    "epochs = 10\n",
    "train(epochs)"
   ]
  },
  {
   "cell_type": "code",
   "execution_count": 12,
   "metadata": {},
   "outputs": [],
   "source": [
    "def test():\n",
    "    model.eval()\n",
    "    loss = 0\n",
    "    for idx, x in enumerate(test_loader):\n",
    "        x = x.float().to(device)\n",
    "\n",
    "        x_hat, mean, log_var = model.forward(x)\n",
    "        loss = loss_function(x, x_hat, mean, log_var)\n",
    "\n",
    "        loss += loss.item()\n",
    "\n",
    "        print(f\"AVG LOSS : {loss/(idx*batch_size)}\")\n",
    "\n",
    "    return"
   ]
  },
  {
   "cell_type": "code",
   "execution_count": 22,
   "metadata": {},
   "outputs": [
    {
     "name": "stdout",
     "output_type": "stream",
     "text": [
      "tensor([[0.5619, 0.1959, 0.4974,  ..., 0.4489, 0.6519, 0.2646],\n",
      "        [0.5281, 0.1612, 0.4880,  ..., 0.2377, 0.6732, 0.7110],\n",
      "        [0.5453, 0.2986, 0.6199,  ..., 0.1704, 0.7096, 0.2933],\n",
      "        ...,\n",
      "        [0.5437, 0.2539, 0.4024,  ..., 0.5733, 0.2796, 0.7134],\n",
      "        [0.9743, 0.4699, 0.3738,  ..., 0.8389, 0.2528, 0.4351],\n",
      "        [0.5513, 0.3689, 0.3160,  ..., 0.2658, 0.6642, 0.7434]],\n",
      "       device='cuda:0')\n",
      "torch.Size([1397, 13]) torch.Size([1397, 13])\n"
     ]
    }
   ],
   "source": [
    "model.eval()\n",
    "T_test = torch.from_numpy(X_test).float().to(device)\n",
    "print(T_test)\n",
    "X_hat, mean, log_var = model.forward(T_test)\n",
    "X_hat = X_hat.detach().cpu()\n",
    "print(T_test.size(), X_hat.size())"
   ]
  },
  {
   "cell_type": "code",
   "execution_count": 20,
   "metadata": {},
   "outputs": [
    {
     "data": {
      "text/plain": [
       "(array([  1.,   3.,   1.,   1.,   2.,   6.,   5.,  10.,   6.,  18.,  21.,\n",
       "         28.,  29.,  38.,  47., 157., 233., 334., 109.,  77.,  66.,  52.,\n",
       "         44.,  21.,  29.,  13.,  18.,   7.,  13.,   3.,   2.,   2.,   0.,\n",
       "          0.,   0.,   0.,   0.,   0.,   0.,   1.]),\n",
       " array([0.39617044, 0.39676881, 0.39736721, 0.39796558, 0.39856398,\n",
       "        0.39916235, 0.39976072, 0.40035912, 0.40095749, 0.40155587,\n",
       "        0.40215427, 0.40275264, 0.40335101, 0.40394941, 0.40454778,\n",
       "        0.40514618, 0.40574455, 0.40634292, 0.40694132, 0.4075397 ,\n",
       "        0.4081381 , 0.40873647, 0.40933484, 0.40993324, 0.41053161,\n",
       "        0.41112998, 0.41172838, 0.41232675, 0.41292512, 0.41352352,\n",
       "        0.4141219 , 0.4147203 , 0.41531867, 0.41591704, 0.41651544,\n",
       "        0.41711381, 0.41771221, 0.41831058, 0.41890895, 0.41950735,\n",
       "        0.42010573]),\n",
       " <BarContainer object of 40 artists>)"
      ]
     },
     "execution_count": 20,
     "metadata": {},
     "output_type": "execute_result"
    },
    {
     "data": {
      "image/png": "[encoded data removed]",
      "text/plain": [
       "<Figure size 800x1000 with 2 Axes>"
      ]
     },
     "metadata": {},
     "output_type": "display_data"
    }
   ],
   "source": [
    "n_bins = 40\n",
    "fig, ax = plt.subplots(2, 1, figsize=(8, 10))\n",
    "ax[0].hist(X_test[:, 3], bins=n_bins)\n",
    "ax[1].hist(X_hat[:, 3], bins=n_bins)"
   ]
  }
 ],
 "metadata": {
  "kernelspec": {
   "display_name": "Python 3",
   "language": "python",
   "name": "python3"
  },
  "language_info": {
   "codemirror_mode": {
    "name": "ipython",
    "version": 3
   },
   "file_extension": ".py",
   "mimetype": "text/x-python",
   "name": "python",
   "nbconvert_exporter": "python",
   "pygments_lexer": "ipython3",
   "version": "3.12.8"
  }
 },
 "nbformat": 4,
 "nbformat_minor": 2
}
